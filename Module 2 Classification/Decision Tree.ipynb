{
 "cells": [
  {
   "cell_type": "markdown",
   "id": "6a16f08f",
   "metadata": {},
   "source": [
    "# Decision Tree"
   ]
  },
  {
   "cell_type": "markdown",
   "id": "447df5a3",
   "metadata": {},
   "source": [
    "# Importing Libraries"
   ]
  },
  {
   "cell_type": "code",
   "execution_count": 2,
   "id": "9b91f7b9",
   "metadata": {},
   "outputs": [],
   "source": [
    "import numpy as np\n",
    "import pandas as pd \n",
    "import matplotlib.pyplot as plt\n",
    "from sklearn.tree import DecisionTreeClassifier"
   ]
  },
  {
   "cell_type": "code",
   "execution_count": 3,
   "id": "6b0e65cd",
   "metadata": {},
   "outputs": [
    {
     "data": {
      "text/html": [
       "<div>\n",
       "<style scoped>\n",
       "    .dataframe tbody tr th:only-of-type {\n",
       "        vertical-align: middle;\n",
       "    }\n",
       "\n",
       "    .dataframe tbody tr th {\n",
       "        vertical-align: top;\n",
       "    }\n",
       "\n",
       "    .dataframe thead th {\n",
       "        text-align: right;\n",
       "    }\n",
       "</style>\n",
       "<table border=\"1\" class=\"dataframe\">\n",
       "  <thead>\n",
       "    <tr style=\"text-align: right;\">\n",
       "      <th></th>\n",
       "      <th>Age</th>\n",
       "      <th>Sex</th>\n",
       "      <th>BP</th>\n",
       "      <th>Cholesterol</th>\n",
       "      <th>Na_to_K</th>\n",
       "      <th>Drug</th>\n",
       "    </tr>\n",
       "  </thead>\n",
       "  <tbody>\n",
       "    <tr>\n",
       "      <th>0</th>\n",
       "      <td>23</td>\n",
       "      <td>F</td>\n",
       "      <td>HIGH</td>\n",
       "      <td>HIGH</td>\n",
       "      <td>25.355</td>\n",
       "      <td>drugY</td>\n",
       "    </tr>\n",
       "    <tr>\n",
       "      <th>1</th>\n",
       "      <td>47</td>\n",
       "      <td>M</td>\n",
       "      <td>LOW</td>\n",
       "      <td>HIGH</td>\n",
       "      <td>13.093</td>\n",
       "      <td>drugC</td>\n",
       "    </tr>\n",
       "    <tr>\n",
       "      <th>2</th>\n",
       "      <td>47</td>\n",
       "      <td>M</td>\n",
       "      <td>LOW</td>\n",
       "      <td>HIGH</td>\n",
       "      <td>10.114</td>\n",
       "      <td>drugC</td>\n",
       "    </tr>\n",
       "    <tr>\n",
       "      <th>3</th>\n",
       "      <td>28</td>\n",
       "      <td>F</td>\n",
       "      <td>NORMAL</td>\n",
       "      <td>HIGH</td>\n",
       "      <td>7.798</td>\n",
       "      <td>drugX</td>\n",
       "    </tr>\n",
       "    <tr>\n",
       "      <th>4</th>\n",
       "      <td>61</td>\n",
       "      <td>F</td>\n",
       "      <td>LOW</td>\n",
       "      <td>HIGH</td>\n",
       "      <td>18.043</td>\n",
       "      <td>drugY</td>\n",
       "    </tr>\n",
       "  </tbody>\n",
       "</table>\n",
       "</div>"
      ],
      "text/plain": [
       "   Age Sex      BP Cholesterol  Na_to_K   Drug\n",
       "0   23   F    HIGH        HIGH   25.355  drugY\n",
       "1   47   M     LOW        HIGH   13.093  drugC\n",
       "2   47   M     LOW        HIGH   10.114  drugC\n",
       "3   28   F  NORMAL        HIGH    7.798  drugX\n",
       "4   61   F     LOW        HIGH   18.043  drugY"
      ]
     },
     "execution_count": 3,
     "metadata": {},
     "output_type": "execute_result"
    }
   ],
   "source": [
    "path = 'https://cf-courses-data.s3.us.cloud-object-storage.appdomain.cloud/IBMDeveloperSkillsNetwork-ML0101EN-SkillsNetwork/labs/Module%203/data/drug200.csv'\n",
    "df = pd.read_csv(path)\n",
    "df.head(5)"
   ]
  },
  {
   "cell_type": "markdown",
   "id": "b4b5361c",
   "metadata": {},
   "source": [
    "<div id=\"practice\"> \n",
    "    <h3>Practice</h3> \n",
    "    What is the size of data? \n",
    "</div>\n"
   ]
  },
  {
   "cell_type": "code",
   "execution_count": 4,
   "id": "369477d5",
   "metadata": {},
   "outputs": [
    {
     "name": "stdout",
     "output_type": "stream",
     "text": [
      "The number of rows: 200\n",
      "The number of colums: 6\n"
     ]
    }
   ],
   "source": [
    "row, column = df.shape\n",
    "print(\"The number of rows:\", row)\n",
    "print(\"The number of colums:\", column)"
   ]
  },
  {
   "cell_type": "markdown",
   "id": "5b591035",
   "metadata": {},
   "source": [
    "<div href=\"pre-processing\">\n",
    "    <h2>Pre-processing</h2>\n",
    "</div>\n"
   ]
  },
  {
   "cell_type": "markdown",
   "id": "af7416d3",
   "metadata": {},
   "source": [
    "\n",
    "<ul>\n",
    "    <li> <b> X </b> as the <b> Feature Matrix </b> (data of my_data) </li>\n",
    "    <li> <b> y </b> as the <b> response vector </b> (target) </li>\n",
    "</ul>\n"
   ]
  },
  {
   "cell_type": "code",
   "execution_count": 15,
   "id": "9fa03bd9",
   "metadata": {},
   "outputs": [
    {
     "data": {
      "text/plain": [
       "array([[23, 'F', 'HIGH', 'HIGH', 25.355],\n",
       "       [47, 'M', 'LOW', 'HIGH', 13.093],\n",
       "       [47, 'M', 'LOW', 'HIGH', 10.114],\n",
       "       [28, 'F', 'NORMAL', 'HIGH', 7.798],\n",
       "       [61, 'F', 'LOW', 'HIGH', 18.043],\n",
       "       [22, 'F', 'NORMAL', 'HIGH', 8.607],\n",
       "       [49, 'F', 'NORMAL', 'HIGH', 16.275],\n",
       "       [41, 'M', 'LOW', 'HIGH', 11.037],\n",
       "       [60, 'M', 'NORMAL', 'HIGH', 15.171],\n",
       "       [43, 'M', 'LOW', 'NORMAL', 19.368],\n",
       "       [47, 'F', 'LOW', 'HIGH', 11.767],\n",
       "       [34, 'F', 'HIGH', 'NORMAL', 19.199],\n",
       "       [43, 'M', 'LOW', 'HIGH', 15.376],\n",
       "       [74, 'F', 'LOW', 'HIGH', 20.942],\n",
       "       [50, 'F', 'NORMAL', 'HIGH', 12.703],\n",
       "       [16, 'F', 'HIGH', 'NORMAL', 15.516],\n",
       "       [69, 'M', 'LOW', 'NORMAL', 11.455],\n",
       "       [43, 'M', 'HIGH', 'HIGH', 13.972],\n",
       "       [23, 'M', 'LOW', 'HIGH', 7.298],\n",
       "       [32, 'F', 'HIGH', 'NORMAL', 25.974],\n",
       "       [57, 'M', 'LOW', 'NORMAL', 19.128],\n",
       "       [63, 'M', 'NORMAL', 'HIGH', 25.917],\n",
       "       [47, 'M', 'LOW', 'NORMAL', 30.568],\n",
       "       [48, 'F', 'LOW', 'HIGH', 15.036],\n",
       "       [33, 'F', 'LOW', 'HIGH', 33.486],\n",
       "       [28, 'F', 'HIGH', 'NORMAL', 18.809],\n",
       "       [31, 'M', 'HIGH', 'HIGH', 30.366],\n",
       "       [49, 'F', 'NORMAL', 'NORMAL', 9.381],\n",
       "       [39, 'F', 'LOW', 'NORMAL', 22.697],\n",
       "       [45, 'M', 'LOW', 'HIGH', 17.951],\n",
       "       [18, 'F', 'NORMAL', 'NORMAL', 8.75],\n",
       "       [74, 'M', 'HIGH', 'HIGH', 9.567],\n",
       "       [49, 'M', 'LOW', 'NORMAL', 11.014],\n",
       "       [65, 'F', 'HIGH', 'NORMAL', 31.876],\n",
       "       [53, 'M', 'NORMAL', 'HIGH', 14.133],\n",
       "       [46, 'M', 'NORMAL', 'NORMAL', 7.285],\n",
       "       [32, 'M', 'HIGH', 'NORMAL', 9.445],\n",
       "       [39, 'M', 'LOW', 'NORMAL', 13.938],\n",
       "       [39, 'F', 'NORMAL', 'NORMAL', 9.709],\n",
       "       [15, 'M', 'NORMAL', 'HIGH', 9.084],\n",
       "       [73, 'F', 'NORMAL', 'HIGH', 19.221],\n",
       "       [58, 'F', 'HIGH', 'NORMAL', 14.239],\n",
       "       [50, 'M', 'NORMAL', 'NORMAL', 15.79],\n",
       "       [23, 'M', 'NORMAL', 'HIGH', 12.26],\n",
       "       [50, 'F', 'NORMAL', 'NORMAL', 12.295],\n",
       "       [66, 'F', 'NORMAL', 'NORMAL', 8.107],\n",
       "       [37, 'F', 'HIGH', 'HIGH', 13.091],\n",
       "       [68, 'M', 'LOW', 'HIGH', 10.291],\n",
       "       [23, 'M', 'NORMAL', 'HIGH', 31.686],\n",
       "       [28, 'F', 'LOW', 'HIGH', 19.796],\n",
       "       [58, 'F', 'HIGH', 'HIGH', 19.416],\n",
       "       [67, 'M', 'NORMAL', 'NORMAL', 10.898],\n",
       "       [62, 'M', 'LOW', 'NORMAL', 27.183],\n",
       "       [24, 'F', 'HIGH', 'NORMAL', 18.457],\n",
       "       [68, 'F', 'HIGH', 'NORMAL', 10.189],\n",
       "       [26, 'F', 'LOW', 'HIGH', 14.16],\n",
       "       [65, 'M', 'HIGH', 'NORMAL', 11.34],\n",
       "       [40, 'M', 'HIGH', 'HIGH', 27.826],\n",
       "       [60, 'M', 'NORMAL', 'NORMAL', 10.091],\n",
       "       [34, 'M', 'HIGH', 'HIGH', 18.703],\n",
       "       [38, 'F', 'LOW', 'NORMAL', 29.875],\n",
       "       [24, 'M', 'HIGH', 'NORMAL', 9.475],\n",
       "       [67, 'M', 'LOW', 'NORMAL', 20.693],\n",
       "       [45, 'M', 'LOW', 'NORMAL', 8.37],\n",
       "       [60, 'F', 'HIGH', 'HIGH', 13.303],\n",
       "       [68, 'F', 'NORMAL', 'NORMAL', 27.05],\n",
       "       [29, 'M', 'HIGH', 'HIGH', 12.856],\n",
       "       [17, 'M', 'NORMAL', 'NORMAL', 10.832],\n",
       "       [54, 'M', 'NORMAL', 'HIGH', 24.658],\n",
       "       [18, 'F', 'HIGH', 'NORMAL', 24.276],\n",
       "       [70, 'M', 'HIGH', 'HIGH', 13.967],\n",
       "       [28, 'F', 'NORMAL', 'HIGH', 19.675],\n",
       "       [24, 'F', 'NORMAL', 'HIGH', 10.605],\n",
       "       [41, 'F', 'NORMAL', 'NORMAL', 22.905],\n",
       "       [31, 'M', 'HIGH', 'NORMAL', 17.069],\n",
       "       [26, 'M', 'LOW', 'NORMAL', 20.909],\n",
       "       [36, 'F', 'HIGH', 'HIGH', 11.198],\n",
       "       [26, 'F', 'HIGH', 'NORMAL', 19.161],\n",
       "       [19, 'F', 'HIGH', 'HIGH', 13.313],\n",
       "       [32, 'F', 'LOW', 'NORMAL', 10.84],\n",
       "       [60, 'M', 'HIGH', 'HIGH', 13.934],\n",
       "       [64, 'M', 'NORMAL', 'HIGH', 7.761],\n",
       "       [32, 'F', 'LOW', 'HIGH', 9.712],\n",
       "       [38, 'F', 'HIGH', 'NORMAL', 11.326],\n",
       "       [47, 'F', 'LOW', 'HIGH', 10.067],\n",
       "       [59, 'M', 'HIGH', 'HIGH', 13.935],\n",
       "       [51, 'F', 'NORMAL', 'HIGH', 13.597],\n",
       "       [69, 'M', 'LOW', 'HIGH', 15.478],\n",
       "       [37, 'F', 'HIGH', 'NORMAL', 23.091],\n",
       "       [50, 'F', 'NORMAL', 'NORMAL', 17.211],\n",
       "       [62, 'M', 'NORMAL', 'HIGH', 16.594],\n",
       "       [41, 'M', 'HIGH', 'NORMAL', 15.156],\n",
       "       [29, 'F', 'HIGH', 'HIGH', 29.45],\n",
       "       [42, 'F', 'LOW', 'NORMAL', 29.271],\n",
       "       [56, 'M', 'LOW', 'HIGH', 15.015],\n",
       "       [36, 'M', 'LOW', 'NORMAL', 11.424],\n",
       "       [58, 'F', 'LOW', 'HIGH', 38.247],\n",
       "       [56, 'F', 'HIGH', 'HIGH', 25.395],\n",
       "       [20, 'M', 'HIGH', 'NORMAL', 35.639],\n",
       "       [15, 'F', 'HIGH', 'NORMAL', 16.725],\n",
       "       [31, 'M', 'HIGH', 'NORMAL', 11.871],\n",
       "       [45, 'F', 'HIGH', 'HIGH', 12.854],\n",
       "       [28, 'F', 'LOW', 'HIGH', 13.127],\n",
       "       [56, 'M', 'NORMAL', 'HIGH', 8.966],\n",
       "       [22, 'M', 'HIGH', 'NORMAL', 28.294],\n",
       "       [37, 'M', 'LOW', 'NORMAL', 8.968],\n",
       "       [22, 'M', 'NORMAL', 'HIGH', 11.953],\n",
       "       [42, 'M', 'LOW', 'HIGH', 20.013],\n",
       "       [72, 'M', 'HIGH', 'NORMAL', 9.677],\n",
       "       [23, 'M', 'NORMAL', 'HIGH', 16.85],\n",
       "       [50, 'M', 'HIGH', 'HIGH', 7.49],\n",
       "       [47, 'F', 'NORMAL', 'NORMAL', 6.683],\n",
       "       [35, 'M', 'LOW', 'NORMAL', 9.17],\n",
       "       [65, 'F', 'LOW', 'NORMAL', 13.769],\n",
       "       [20, 'F', 'NORMAL', 'NORMAL', 9.281],\n",
       "       [51, 'M', 'HIGH', 'HIGH', 18.295],\n",
       "       [67, 'M', 'NORMAL', 'NORMAL', 9.514],\n",
       "       [40, 'F', 'NORMAL', 'HIGH', 10.103],\n",
       "       [32, 'F', 'HIGH', 'NORMAL', 10.292],\n",
       "       [61, 'F', 'HIGH', 'HIGH', 25.475],\n",
       "       [28, 'M', 'NORMAL', 'HIGH', 27.064],\n",
       "       [15, 'M', 'HIGH', 'NORMAL', 17.206],\n",
       "       [34, 'M', 'NORMAL', 'HIGH', 22.456],\n",
       "       [36, 'F', 'NORMAL', 'HIGH', 16.753],\n",
       "       [53, 'F', 'HIGH', 'NORMAL', 12.495],\n",
       "       [19, 'F', 'HIGH', 'NORMAL', 25.969],\n",
       "       [66, 'M', 'HIGH', 'HIGH', 16.347],\n",
       "       [35, 'M', 'NORMAL', 'NORMAL', 7.845],\n",
       "       [47, 'M', 'LOW', 'NORMAL', 33.542],\n",
       "       [32, 'F', 'NORMAL', 'HIGH', 7.477],\n",
       "       [70, 'F', 'NORMAL', 'HIGH', 20.489],\n",
       "       [52, 'M', 'LOW', 'NORMAL', 32.922],\n",
       "       [49, 'M', 'LOW', 'NORMAL', 13.598],\n",
       "       [24, 'M', 'NORMAL', 'HIGH', 25.786],\n",
       "       [42, 'F', 'HIGH', 'HIGH', 21.036],\n",
       "       [74, 'M', 'LOW', 'NORMAL', 11.939],\n",
       "       [55, 'F', 'HIGH', 'HIGH', 10.977],\n",
       "       [35, 'F', 'HIGH', 'HIGH', 12.894],\n",
       "       [51, 'M', 'HIGH', 'NORMAL', 11.343],\n",
       "       [69, 'F', 'NORMAL', 'HIGH', 10.065],\n",
       "       [49, 'M', 'HIGH', 'NORMAL', 6.269],\n",
       "       [64, 'F', 'LOW', 'NORMAL', 25.741],\n",
       "       [60, 'M', 'HIGH', 'NORMAL', 8.621],\n",
       "       [74, 'M', 'HIGH', 'NORMAL', 15.436],\n",
       "       [39, 'M', 'HIGH', 'HIGH', 9.664],\n",
       "       [61, 'M', 'NORMAL', 'HIGH', 9.443],\n",
       "       [37, 'F', 'LOW', 'NORMAL', 12.006],\n",
       "       [26, 'F', 'HIGH', 'NORMAL', 12.307],\n",
       "       [61, 'F', 'LOW', 'NORMAL', 7.34],\n",
       "       [22, 'M', 'LOW', 'HIGH', 8.151],\n",
       "       [49, 'M', 'HIGH', 'NORMAL', 8.7],\n",
       "       [68, 'M', 'HIGH', 'HIGH', 11.009],\n",
       "       [55, 'M', 'NORMAL', 'NORMAL', 7.261],\n",
       "       [72, 'F', 'LOW', 'NORMAL', 14.642],\n",
       "       [37, 'M', 'LOW', 'NORMAL', 16.724],\n",
       "       [49, 'M', 'LOW', 'HIGH', 10.537],\n",
       "       [31, 'M', 'HIGH', 'NORMAL', 11.227],\n",
       "       [53, 'M', 'LOW', 'HIGH', 22.963],\n",
       "       [59, 'F', 'LOW', 'HIGH', 10.444],\n",
       "       [34, 'F', 'LOW', 'NORMAL', 12.923],\n",
       "       [30, 'F', 'NORMAL', 'HIGH', 10.443],\n",
       "       [57, 'F', 'HIGH', 'NORMAL', 9.945],\n",
       "       [43, 'M', 'NORMAL', 'NORMAL', 12.859],\n",
       "       [21, 'F', 'HIGH', 'NORMAL', 28.632],\n",
       "       [16, 'M', 'HIGH', 'NORMAL', 19.007],\n",
       "       [38, 'M', 'LOW', 'HIGH', 18.295],\n",
       "       [58, 'F', 'LOW', 'HIGH', 26.645],\n",
       "       [57, 'F', 'NORMAL', 'HIGH', 14.216],\n",
       "       [51, 'F', 'LOW', 'NORMAL', 23.003],\n",
       "       [20, 'F', 'HIGH', 'HIGH', 11.262],\n",
       "       [28, 'F', 'NORMAL', 'HIGH', 12.879],\n",
       "       [45, 'M', 'LOW', 'NORMAL', 10.017],\n",
       "       [39, 'F', 'NORMAL', 'NORMAL', 17.225],\n",
       "       [41, 'F', 'LOW', 'NORMAL', 18.739],\n",
       "       [42, 'M', 'HIGH', 'NORMAL', 12.766],\n",
       "       [73, 'F', 'HIGH', 'HIGH', 18.348],\n",
       "       [48, 'M', 'HIGH', 'NORMAL', 10.446],\n",
       "       [25, 'M', 'NORMAL', 'HIGH', 19.011],\n",
       "       [39, 'M', 'NORMAL', 'HIGH', 15.969],\n",
       "       [67, 'F', 'NORMAL', 'HIGH', 15.891],\n",
       "       [22, 'F', 'HIGH', 'NORMAL', 22.818],\n",
       "       [59, 'F', 'NORMAL', 'HIGH', 13.884],\n",
       "       [20, 'F', 'LOW', 'NORMAL', 11.686],\n",
       "       [36, 'F', 'HIGH', 'NORMAL', 15.49],\n",
       "       [18, 'F', 'HIGH', 'HIGH', 37.188],\n",
       "       [57, 'F', 'NORMAL', 'NORMAL', 25.893],\n",
       "       [70, 'M', 'HIGH', 'HIGH', 9.849],\n",
       "       [47, 'M', 'HIGH', 'HIGH', 10.403],\n",
       "       [65, 'M', 'HIGH', 'NORMAL', 34.997],\n",
       "       [64, 'M', 'HIGH', 'NORMAL', 20.932],\n",
       "       [58, 'M', 'HIGH', 'HIGH', 18.991],\n",
       "       [23, 'M', 'HIGH', 'HIGH', 8.011],\n",
       "       [72, 'M', 'LOW', 'HIGH', 16.31],\n",
       "       [72, 'M', 'LOW', 'HIGH', 6.769],\n",
       "       [46, 'F', 'HIGH', 'HIGH', 34.686],\n",
       "       [56, 'F', 'LOW', 'HIGH', 11.567],\n",
       "       [16, 'M', 'LOW', 'HIGH', 12.006],\n",
       "       [52, 'M', 'NORMAL', 'HIGH', 9.894],\n",
       "       [23, 'M', 'NORMAL', 'NORMAL', 14.02],\n",
       "       [40, 'F', 'LOW', 'NORMAL', 11.349]], dtype=object)"
      ]
     },
     "execution_count": 15,
     "metadata": {},
     "output_type": "execute_result"
    }
   ],
   "source": [
    "x_data = df[['Age', 'Sex', 'BP', 'Cholesterol', 'Na_to_K']].values\n",
    "x_data"
   ]
  },
  {
   "cell_type": "code",
   "execution_count": 16,
   "id": "45a50983",
   "metadata": {},
   "outputs": [
    {
     "data": {
      "text/plain": [
       "array([[23, 0, 0, 0, 25.355],\n",
       "       [47, 1, 1, 0, 13.093],\n",
       "       [47, 1, 1, 0, 10.114],\n",
       "       [28, 0, 2, 0, 7.798],\n",
       "       [61, 0, 1, 0, 18.043],\n",
       "       [22, 0, 2, 0, 8.607],\n",
       "       [49, 0, 2, 0, 16.275],\n",
       "       [41, 1, 1, 0, 11.037],\n",
       "       [60, 1, 2, 0, 15.171],\n",
       "       [43, 1, 1, 2, 19.368],\n",
       "       [47, 0, 1, 0, 11.767],\n",
       "       [34, 0, 0, 2, 19.199],\n",
       "       [43, 1, 1, 0, 15.376],\n",
       "       [74, 0, 1, 0, 20.942],\n",
       "       [50, 0, 2, 0, 12.703],\n",
       "       [16, 0, 0, 2, 15.516],\n",
       "       [69, 1, 1, 2, 11.455],\n",
       "       [43, 1, 0, 0, 13.972],\n",
       "       [23, 1, 1, 0, 7.298],\n",
       "       [32, 0, 0, 2, 25.974],\n",
       "       [57, 1, 1, 2, 19.128],\n",
       "       [63, 1, 2, 0, 25.917],\n",
       "       [47, 1, 1, 2, 30.568],\n",
       "       [48, 0, 1, 0, 15.036],\n",
       "       [33, 0, 1, 0, 33.486],\n",
       "       [28, 0, 0, 2, 18.809],\n",
       "       [31, 1, 0, 0, 30.366],\n",
       "       [49, 0, 2, 2, 9.381],\n",
       "       [39, 0, 1, 2, 22.697],\n",
       "       [45, 1, 1, 0, 17.951],\n",
       "       [18, 0, 2, 2, 8.75],\n",
       "       [74, 1, 0, 0, 9.567],\n",
       "       [49, 1, 1, 2, 11.014],\n",
       "       [65, 0, 0, 2, 31.876],\n",
       "       [53, 1, 2, 0, 14.133],\n",
       "       [46, 1, 2, 2, 7.285],\n",
       "       [32, 1, 0, 2, 9.445],\n",
       "       [39, 1, 1, 2, 13.938],\n",
       "       [39, 0, 2, 2, 9.709],\n",
       "       [15, 1, 2, 0, 9.084],\n",
       "       [73, 0, 2, 0, 19.221],\n",
       "       [58, 0, 0, 2, 14.239],\n",
       "       [50, 1, 2, 2, 15.79],\n",
       "       [23, 1, 2, 0, 12.26],\n",
       "       [50, 0, 2, 2, 12.295],\n",
       "       [66, 0, 2, 2, 8.107],\n",
       "       [37, 0, 0, 0, 13.091],\n",
       "       [68, 1, 1, 0, 10.291],\n",
       "       [23, 1, 2, 0, 31.686],\n",
       "       [28, 0, 1, 0, 19.796],\n",
       "       [58, 0, 0, 0, 19.416],\n",
       "       [67, 1, 2, 2, 10.898],\n",
       "       [62, 1, 1, 2, 27.183],\n",
       "       [24, 0, 0, 2, 18.457],\n",
       "       [68, 0, 0, 2, 10.189],\n",
       "       [26, 0, 1, 0, 14.16],\n",
       "       [65, 1, 0, 2, 11.34],\n",
       "       [40, 1, 0, 0, 27.826],\n",
       "       [60, 1, 2, 2, 10.091],\n",
       "       [34, 1, 0, 0, 18.703],\n",
       "       [38, 0, 1, 2, 29.875],\n",
       "       [24, 1, 0, 2, 9.475],\n",
       "       [67, 1, 1, 2, 20.693],\n",
       "       [45, 1, 1, 2, 8.37],\n",
       "       [60, 0, 0, 0, 13.303],\n",
       "       [68, 0, 2, 2, 27.05],\n",
       "       [29, 1, 0, 0, 12.856],\n",
       "       [17, 1, 2, 2, 10.832],\n",
       "       [54, 1, 2, 0, 24.658],\n",
       "       [18, 0, 0, 2, 24.276],\n",
       "       [70, 1, 0, 0, 13.967],\n",
       "       [28, 0, 2, 0, 19.675],\n",
       "       [24, 0, 2, 0, 10.605],\n",
       "       [41, 0, 2, 2, 22.905],\n",
       "       [31, 1, 0, 2, 17.069],\n",
       "       [26, 1, 1, 2, 20.909],\n",
       "       [36, 0, 0, 0, 11.198],\n",
       "       [26, 0, 0, 2, 19.161],\n",
       "       [19, 0, 0, 0, 13.313],\n",
       "       [32, 0, 1, 2, 10.84],\n",
       "       [60, 1, 0, 0, 13.934],\n",
       "       [64, 1, 2, 0, 7.761],\n",
       "       [32, 0, 1, 0, 9.712],\n",
       "       [38, 0, 0, 2, 11.326],\n",
       "       [47, 0, 1, 0, 10.067],\n",
       "       [59, 1, 0, 0, 13.935],\n",
       "       [51, 0, 2, 0, 13.597],\n",
       "       [69, 1, 1, 0, 15.478],\n",
       "       [37, 0, 0, 2, 23.091],\n",
       "       [50, 0, 2, 2, 17.211],\n",
       "       [62, 1, 2, 0, 16.594],\n",
       "       [41, 1, 0, 2, 15.156],\n",
       "       [29, 0, 0, 0, 29.45],\n",
       "       [42, 0, 1, 2, 29.271],\n",
       "       [56, 1, 1, 0, 15.015],\n",
       "       [36, 1, 1, 2, 11.424],\n",
       "       [58, 0, 1, 0, 38.247],\n",
       "       [56, 0, 0, 0, 25.395],\n",
       "       [20, 1, 0, 2, 35.639],\n",
       "       [15, 0, 0, 2, 16.725],\n",
       "       [31, 1, 0, 2, 11.871],\n",
       "       [45, 0, 0, 0, 12.854],\n",
       "       [28, 0, 1, 0, 13.127],\n",
       "       [56, 1, 2, 0, 8.966],\n",
       "       [22, 1, 0, 2, 28.294],\n",
       "       [37, 1, 1, 2, 8.968],\n",
       "       [22, 1, 2, 0, 11.953],\n",
       "       [42, 1, 1, 0, 20.013],\n",
       "       [72, 1, 0, 2, 9.677],\n",
       "       [23, 1, 2, 0, 16.85],\n",
       "       [50, 1, 0, 0, 7.49],\n",
       "       [47, 0, 2, 2, 6.683],\n",
       "       [35, 1, 1, 2, 9.17],\n",
       "       [65, 0, 1, 2, 13.769],\n",
       "       [20, 0, 2, 2, 9.281],\n",
       "       [51, 1, 0, 0, 18.295],\n",
       "       [67, 1, 2, 2, 9.514],\n",
       "       [40, 0, 2, 0, 10.103],\n",
       "       [32, 0, 0, 2, 10.292],\n",
       "       [61, 0, 0, 0, 25.475],\n",
       "       [28, 1, 2, 0, 27.064],\n",
       "       [15, 1, 0, 2, 17.206],\n",
       "       [34, 1, 2, 0, 22.456],\n",
       "       [36, 0, 2, 0, 16.753],\n",
       "       [53, 0, 0, 2, 12.495],\n",
       "       [19, 0, 0, 2, 25.969],\n",
       "       [66, 1, 0, 0, 16.347],\n",
       "       [35, 1, 2, 2, 7.845],\n",
       "       [47, 1, 1, 2, 33.542],\n",
       "       [32, 0, 2, 0, 7.477],\n",
       "       [70, 0, 2, 0, 20.489],\n",
       "       [52, 1, 1, 2, 32.922],\n",
       "       [49, 1, 1, 2, 13.598],\n",
       "       [24, 1, 2, 0, 25.786],\n",
       "       [42, 0, 0, 0, 21.036],\n",
       "       [74, 1, 1, 2, 11.939],\n",
       "       [55, 0, 0, 0, 10.977],\n",
       "       [35, 0, 0, 0, 12.894],\n",
       "       [51, 1, 0, 2, 11.343],\n",
       "       [69, 0, 2, 0, 10.065],\n",
       "       [49, 1, 0, 2, 6.269],\n",
       "       [64, 0, 1, 2, 25.741],\n",
       "       [60, 1, 0, 2, 8.621],\n",
       "       [74, 1, 0, 2, 15.436],\n",
       "       [39, 1, 0, 0, 9.664],\n",
       "       [61, 1, 2, 0, 9.443],\n",
       "       [37, 0, 1, 2, 12.006],\n",
       "       [26, 0, 0, 2, 12.307],\n",
       "       [61, 0, 1, 2, 7.34],\n",
       "       [22, 1, 1, 0, 8.151],\n",
       "       [49, 1, 0, 2, 8.7],\n",
       "       [68, 1, 0, 0, 11.009],\n",
       "       [55, 1, 2, 2, 7.261],\n",
       "       [72, 0, 1, 2, 14.642],\n",
       "       [37, 1, 1, 2, 16.724],\n",
       "       [49, 1, 1, 0, 10.537],\n",
       "       [31, 1, 0, 2, 11.227],\n",
       "       [53, 1, 1, 0, 22.963],\n",
       "       [59, 0, 1, 0, 10.444],\n",
       "       [34, 0, 1, 2, 12.923],\n",
       "       [30, 0, 2, 0, 10.443],\n",
       "       [57, 0, 0, 2, 9.945],\n",
       "       [43, 1, 2, 2, 12.859],\n",
       "       [21, 0, 0, 2, 28.632],\n",
       "       [16, 1, 0, 2, 19.007],\n",
       "       [38, 1, 1, 0, 18.295],\n",
       "       [58, 0, 1, 0, 26.645],\n",
       "       [57, 0, 2, 0, 14.216],\n",
       "       [51, 0, 1, 2, 23.003],\n",
       "       [20, 0, 0, 0, 11.262],\n",
       "       [28, 0, 2, 0, 12.879],\n",
       "       [45, 1, 1, 2, 10.017],\n",
       "       [39, 0, 2, 2, 17.225],\n",
       "       [41, 0, 1, 2, 18.739],\n",
       "       [42, 1, 0, 2, 12.766],\n",
       "       [73, 0, 0, 0, 18.348],\n",
       "       [48, 1, 0, 2, 10.446],\n",
       "       [25, 1, 2, 0, 19.011],\n",
       "       [39, 1, 2, 0, 15.969],\n",
       "       [67, 0, 2, 0, 15.891],\n",
       "       [22, 0, 0, 2, 22.818],\n",
       "       [59, 0, 2, 0, 13.884],\n",
       "       [20, 0, 1, 2, 11.686],\n",
       "       [36, 0, 0, 2, 15.49],\n",
       "       [18, 0, 0, 0, 37.188],\n",
       "       [57, 0, 2, 2, 25.893],\n",
       "       [70, 1, 0, 0, 9.849],\n",
       "       [47, 1, 0, 0, 10.403],\n",
       "       [65, 1, 0, 2, 34.997],\n",
       "       [64, 1, 0, 2, 20.932],\n",
       "       [58, 1, 0, 0, 18.991],\n",
       "       [23, 1, 0, 0, 8.011],\n",
       "       [72, 1, 1, 0, 16.31],\n",
       "       [72, 1, 1, 0, 6.769],\n",
       "       [46, 0, 0, 0, 34.686],\n",
       "       [56, 0, 1, 0, 11.567],\n",
       "       [16, 1, 1, 0, 12.006],\n",
       "       [52, 1, 2, 0, 9.894],\n",
       "       [23, 1, 2, 2, 14.02],\n",
       "       [40, 0, 1, 2, 11.349]], dtype=object)"
      ]
     },
     "execution_count": 16,
     "metadata": {},
     "output_type": "execute_result"
    }
   ],
   "source": [
    "from sklearn.preprocessing import LabelEncoder\n",
    "\n",
    "le_sex = LabelEncoder()\n",
    "le_sex.fit(['F', 'M'])\n",
    "x_data[:,1] = le_sex.transform(x_data[:,1]) \n",
    "\n",
    "le_bp = LabelEncoder()\n",
    "le_bp.fit(['LOW', 'NORMAL', 'HIGH'])\n",
    "x_data[:,2] = le_bp.transform(x_data[:,2])\n",
    "\n",
    "le_chol = LabelEncoder()\n",
    "le_chol.fit(['LOW', 'NORMAL', 'HIGH'])\n",
    "x_data[:,3] = le_chol.transform(x_data[:,3]) \n",
    "\n",
    "x_data"
   ]
  },
  {
   "cell_type": "markdown",
   "id": "f034cb28",
   "metadata": {},
   "source": [
    "Filling the target variable:"
   ]
  },
  {
   "cell_type": "code",
   "execution_count": 18,
   "id": "c9be5e9c",
   "metadata": {},
   "outputs": [],
   "source": [
    "y_data = df['Drug']"
   ]
  },
  {
   "cell_type": "markdown",
   "id": "a7b10183",
   "metadata": {},
   "source": [
    "## Spliting the data"
   ]
  },
  {
   "cell_type": "markdown",
   "id": "cb1e93b2",
   "metadata": {},
   "source": [
    "Now <b> train_test_split </b> will return 4 different parameters. We will name them:<br>\n",
    "X_trainset, X_testset, y_trainset, y_testset <br> <br>\n",
    "The <b> train_test_split </b> will need the parameters: <br>\n",
    "X, y, test_size=0.3, and random_state=3. <br> <br>\n",
    "The <b>X</b> and <b>y</b> are the arrays required before the split, the <b>test_size</b> represents the ratio of the testing dataset, and the <b>random_state</b> ensures that we obtain the same splits.\n"
   ]
  },
  {
   "cell_type": "code",
   "execution_count": 19,
   "id": "6b4a1df1",
   "metadata": {},
   "outputs": [],
   "source": [
    "from sklearn.model_selection import train_test_split\n",
    "\n",
    "x_train, x_test, y_train, y_test = train_test_split(x_data, y_data, test_size=0.3, random_state=3)"
   ]
  },
  {
   "cell_type": "markdown",
   "id": "fb26f65e",
   "metadata": {},
   "source": [
    "<h3>Practice</h3>\n",
    "Print the shape of X_trainset and y_trainset. Ensure that the dimensions match.\n"
   ]
  },
  {
   "cell_type": "code",
   "execution_count": 20,
   "id": "9557d423",
   "metadata": {},
   "outputs": [
    {
     "name": "stdout",
     "output_type": "stream",
     "text": [
      "The shape of x_train: (140, 5)\n",
      "The shape of y_train: (140,)\n"
     ]
    }
   ],
   "source": [
    "print(\"The shape of x_train:\", x_train.shape)\n",
    "print(\"The shape of y_train:\", y_train.shape)"
   ]
  },
  {
   "cell_type": "markdown",
   "id": "96ca231c",
   "metadata": {},
   "source": [
    "Print the shape of X_testset and y_testset. Ensure that the dimensions match.\n"
   ]
  },
  {
   "cell_type": "code",
   "execution_count": 21,
   "id": "e098769e",
   "metadata": {},
   "outputs": [
    {
     "name": "stdout",
     "output_type": "stream",
     "text": [
      "The shape of x_test: (60, 5)\n",
      "The shape of y_test: (60,)\n"
     ]
    }
   ],
   "source": [
    "print(\"The shape of x_test:\", x_test.shape)\n",
    "print(\"The shape of y_test:\", y_test.shape)"
   ]
  },
  {
   "cell_type": "markdown",
   "id": "cb6d584c",
   "metadata": {},
   "source": [
    "<div id=\"modeling\">\n",
    "    <h2>Modeling</h2> <br />\n",
    "    We will first create an instance of the <b>DecisionTreeClassifier</b> called <b>drugTree</b>.<br>\n",
    "    Inside of the classifier, specify <i> criterion=\"entropy\" </i> so we can see the information gain of each node.\n",
    "</div>\n"
   ]
  },
  {
   "cell_type": "code",
   "execution_count": 22,
   "id": "93588bb9",
   "metadata": {},
   "outputs": [
    {
     "data": {
      "text/plain": [
       "DecisionTreeClassifier(criterion='entropy', max_depth=4)"
      ]
     },
     "execution_count": 22,
     "metadata": {},
     "output_type": "execute_result"
    }
   ],
   "source": [
    "drugTree = DecisionTreeClassifier(criterion='entropy', max_depth=4)\n",
    "drugTree\n"
   ]
  },
  {
   "cell_type": "code",
   "execution_count": 23,
   "id": "30ffad18",
   "metadata": {},
   "outputs": [
    {
     "data": {
      "text/plain": [
       "DecisionTreeClassifier(criterion='entropy', max_depth=4)"
      ]
     },
     "execution_count": 23,
     "metadata": {},
     "output_type": "execute_result"
    }
   ],
   "source": [
    "drugTree.fit(x_train, y_train)"
   ]
  },
  {
   "cell_type": "code",
   "execution_count": 24,
   "id": "9dd8ebf6",
   "metadata": {},
   "outputs": [],
   "source": [
    "predTree = drugTree.predict(x_test)"
   ]
  },
  {
   "cell_type": "markdown",
   "id": "5f3b74df",
   "metadata": {},
   "source": [
    "Let us check visually how it has ended up predicting the model:"
   ]
  },
  {
   "cell_type": "code",
   "execution_count": 26,
   "id": "0ddaa670",
   "metadata": {},
   "outputs": [
    {
     "name": "stdout",
     "output_type": "stream",
     "text": [
      "['drugY' 'drugX' 'drugX' 'drugX' 'drugX']\n",
      "40     drugY\n",
      "51     drugX\n",
      "139    drugX\n",
      "197    drugX\n",
      "170    drugX\n",
      "Name: Drug, dtype: object\n"
     ]
    }
   ],
   "source": [
    "print (predTree [0:5])\n",
    "print (y_test [0:5])\n"
   ]
  },
  {
   "cell_type": "markdown",
   "id": "ab940ad4",
   "metadata": {},
   "source": [
    "<div id=\"evaluation\">\n",
    "    <h2>Evaluation</h2> <br />\n",
    "    Next, let's import <b>metrics</b> from sklearn and check the accuracy of our model.\n",
    "</div>\n"
   ]
  },
  {
   "cell_type": "code",
   "execution_count": 27,
   "id": "ea032505",
   "metadata": {},
   "outputs": [],
   "source": [
    "from sklearn.metrics import accuracy_score"
   ]
  },
  {
   "cell_type": "code",
   "execution_count": 28,
   "id": "aa03a4b4",
   "metadata": {},
   "outputs": [
    {
     "data": {
      "text/plain": [
       "0.9833333333333333"
      ]
     },
     "execution_count": 28,
     "metadata": {},
     "output_type": "execute_result"
    }
   ],
   "source": [
    "accuracy_score(y_test, predTree)"
   ]
  },
  {
   "cell_type": "markdown",
   "id": "c0f968ad",
   "metadata": {},
   "source": [
    "**Accuracy classification score** computes subset accuracy: the set of labels predicted for a sample must exactly match the corresponding set of labels in y_true.\n",
    "\n",
    "In multilabel classification, the function returns the subset accuracy. If the entire set of predicted labels for a sample strictly matches with the true set of labels, then the subset accuracy is 1.0; otherwise it is 0.0.\n"
   ]
  },
  {
   "cell_type": "code",
   "execution_count": 31,
   "id": "1f10ec9c",
   "metadata": {},
   "outputs": [
    {
     "data": {
      "image/png": "[encoded data removed]",
      "text/plain": [
       "<Figure size 1080x648 with 1 Axes>"
      ]
     },
     "metadata": {
      "needs_background": "light"
     },
     "output_type": "display_data"
    }
   ],
   "source": [
    "from sklearn import tree\n",
    "\n",
    "plt.figure(figsize=(15, 9))\n",
    "tree.plot_tree(drugTree)\n",
    "plt.show()"
   ]
  },
  {
   "cell_type": "code",
   "execution_count": null,
   "id": "f8652132",
   "metadata": {},
   "outputs": [],
   "source": []
  }
 ],
 "metadata": {
  "kernelspec": {
   "display_name": "Python 3 (ipykernel)",
   "language": "python",
   "name": "python3"
  },
  "language_info": {
   "codemirror_mode": {
    "name": "ipython",
    "version": 3
   },
   "file_extension": ".py",
   "mimetype": "text/x-python",
   "name": "python",
   "nbconvert_exporter": "python",
   "pygments_lexer": "ipython3",
   "version": "3.9.12"
  }
 },
 "nbformat": 4,
 "nbformat_minor": 5
}
